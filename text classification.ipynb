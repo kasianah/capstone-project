{
 "cells": [
  {
   "cell_type": "code",
   "execution_count": null,
   "metadata": {},
   "outputs": [],
   "source": [
    "#references\n",
    "#https://towardsdatascience.com/how-to-find-the-optimal-value-of-k-in-knn-35d936e554eb\n",
    "#https://medium.com/@claude.feldges/text-classification-with-tf-idf-lstm-bert-a-quantitative-comparison-b8409b556cb3\n"
   ]
  },
  {
   "cell_type": "code",
   "execution_count": 3,
   "metadata": {},
   "outputs": [],
   "source": [
    "import pandas as pd\n",
    "import numpy as np \n",
    "from sklearn.feature_extraction.text import CountVectorizer, TfidfVectorizer\n",
    "from sklearn.neighbors import KNeighborsClassifier\n",
    "from sklearn.pipeline import Pipeline\n",
    "from sklearn.model_selection import train_test_split\n",
    "from sklearn import metrics\n"
   ]
  },
  {
   "cell_type": "code",
   "execution_count": 4,
   "metadata": {},
   "outputs": [
    {
     "data": {
      "text/html": [
       "<div>\n",
       "<style scoped>\n",
       "    .dataframe tbody tr th:only-of-type {\n",
       "        vertical-align: middle;\n",
       "    }\n",
       "\n",
       "    .dataframe tbody tr th {\n",
       "        vertical-align: top;\n",
       "    }\n",
       "\n",
       "    .dataframe thead th {\n",
       "        text-align: right;\n",
       "    }\n",
       "</style>\n",
       "<table border=\"1\" class=\"dataframe\">\n",
       "  <thead>\n",
       "    <tr style=\"text-align: right;\">\n",
       "      <th></th>\n",
       "      <th>name</th>\n",
       "      <th>strain_type</th>\n",
       "      <th>effect</th>\n",
       "      <th>may_relieve</th>\n",
       "      <th>aromas</th>\n",
       "      <th>flavors</th>\n",
       "      <th>rating</th>\n",
       "      <th>description</th>\n",
       "      <th>fav_count</th>\n",
       "      <th>sativa_comp</th>\n",
       "      <th>indica_comp</th>\n",
       "      <th>cbd</th>\n",
       "      <th>cbn</th>\n",
       "      <th>avg_thc</th>\n",
       "      <th>combined_text</th>\n",
       "    </tr>\n",
       "  </thead>\n",
       "  <tbody>\n",
       "    <tr>\n",
       "      <th>0</th>\n",
       "      <td>s a g e   sativa afghani genetic equilibrium  ...</td>\n",
       "      <td>hybrid</td>\n",
       "      <td>energizing     euphoria     happy     relaxi...</td>\n",
       "      <td>add adhd     anxiety     chronic pain     de...</td>\n",
       "      <td>earthy     herbal     sage     spicy     woo...</td>\n",
       "      <td>sage     spicy</td>\n",
       "      <td>4.8</td>\n",
       "      <td>s a g e is a popular marijuana strain that won...</td>\n",
       "      <td>621.0</td>\n",
       "      <td>0.5</td>\n",
       "      <td>0.5</td>\n",
       "      <td>0.00</td>\n",
       "      <td>0.00</td>\n",
       "      <td>0.19</td>\n",
       "      <td>s a g e   sativa afghani genetic equilibrium  ...</td>\n",
       "    </tr>\n",
       "    <tr>\n",
       "      <th>1</th>\n",
       "      <td>cannatonic marijuana strain</td>\n",
       "      <td>hybrid</td>\n",
       "      <td>calming     happy     mellow     relaxing   ...</td>\n",
       "      <td>anxiety     chronic pain     cramps     head...</td>\n",
       "      <td>citrus     earthy     herbal     lemon     s...</td>\n",
       "      <td>citrus     herbal     sour     spicy     swe...</td>\n",
       "      <td>4.7</td>\n",
       "      <td>cannatonic is an evenly balanced hybrid strain...</td>\n",
       "      <td>1535.0</td>\n",
       "      <td>0.5</td>\n",
       "      <td>0.5</td>\n",
       "      <td>0.14</td>\n",
       "      <td>0.01</td>\n",
       "      <td>0.07</td>\n",
       "      <td>cannatonic marijuana strain   calming     happ...</td>\n",
       "    </tr>\n",
       "    <tr>\n",
       "      <th>2</th>\n",
       "      <td>blue dream marijuana strain</td>\n",
       "      <td>sativa dominant hybrid</td>\n",
       "      <td>creative     energizing     euphoria     hap...</td>\n",
       "      <td>add adhd     anxiety     autism     bipolar ...</td>\n",
       "      <td>earthy     fruity     sweet     vanilla</td>\n",
       "      <td>berry     blueberry     fruity     herbal   ...</td>\n",
       "      <td>4.5</td>\n",
       "      <td>blue dream is a slightly sativa dominant hybri...</td>\n",
       "      <td>15731.0</td>\n",
       "      <td>0.6</td>\n",
       "      <td>0.4</td>\n",
       "      <td>0.02</td>\n",
       "      <td>0.01</td>\n",
       "      <td>0.17</td>\n",
       "      <td>blue dream marijuana strain   creative     ene...</td>\n",
       "    </tr>\n",
       "    <tr>\n",
       "      <th>3</th>\n",
       "      <td>goji og marijuana strain</td>\n",
       "      <td>sativa dominant hybrid</td>\n",
       "      <td>creative     energizing     euphoria     hap...</td>\n",
       "      <td>chronic pain     depression     gastrointest...</td>\n",
       "      <td>cherry     pungent     sweet</td>\n",
       "      <td>berry     cherry     strawberry     sweet   ...</td>\n",
       "      <td>4.5</td>\n",
       "      <td>named after the bright red himalayan berry  th...</td>\n",
       "      <td>301.0</td>\n",
       "      <td>0.8</td>\n",
       "      <td>0.2</td>\n",
       "      <td>0.01</td>\n",
       "      <td>0.00</td>\n",
       "      <td>0.22</td>\n",
       "      <td>goji og marijuana strain   creative     energi...</td>\n",
       "    </tr>\n",
       "    <tr>\n",
       "      <th>4</th>\n",
       "      <td>green love potion marijuana strain</td>\n",
       "      <td>indica dominant hybrid</td>\n",
       "      <td>aroused     happy     relaxing     sleepy</td>\n",
       "      <td>anxiety     chronic pain     cramps     depr...</td>\n",
       "      <td>earthy     floral     lavender     pungent  ...</td>\n",
       "      <td>chemical     herbal     lavender     menthol...</td>\n",
       "      <td>4.5</td>\n",
       "      <td>being an indica dominant hybrid strain  green ...</td>\n",
       "      <td>60.0</td>\n",
       "      <td>0.8</td>\n",
       "      <td>0.2</td>\n",
       "      <td>0.00</td>\n",
       "      <td>0.00</td>\n",
       "      <td>0.11</td>\n",
       "      <td>green love potion marijuana strain   aroused  ...</td>\n",
       "    </tr>\n",
       "  </tbody>\n",
       "</table>\n",
       "</div>"
      ],
      "text/plain": [
       "                                                name             strain_type  \\\n",
       "0  s a g e   sativa afghani genetic equilibrium  ...                  hybrid   \n",
       "1                        cannatonic marijuana strain                  hybrid   \n",
       "2                        blue dream marijuana strain  sativa dominant hybrid   \n",
       "3                           goji og marijuana strain  sativa dominant hybrid   \n",
       "4                 green love potion marijuana strain  indica dominant hybrid   \n",
       "\n",
       "                                              effect  \\\n",
       "0    energizing     euphoria     happy     relaxi...   \n",
       "1    calming     happy     mellow     relaxing   ...   \n",
       "2    creative     energizing     euphoria     hap...   \n",
       "3    creative     energizing     euphoria     hap...   \n",
       "4        aroused     happy     relaxing     sleepy     \n",
       "\n",
       "                                         may_relieve  \\\n",
       "0    add adhd     anxiety     chronic pain     de...   \n",
       "1    anxiety     chronic pain     cramps     head...   \n",
       "2    add adhd     anxiety     autism     bipolar ...   \n",
       "3    chronic pain     depression     gastrointest...   \n",
       "4    anxiety     chronic pain     cramps     depr...   \n",
       "\n",
       "                                              aromas  \\\n",
       "0    earthy     herbal     sage     spicy     woo...   \n",
       "1    citrus     earthy     herbal     lemon     s...   \n",
       "2          earthy     fruity     sweet     vanilla     \n",
       "3                     cherry     pungent     sweet     \n",
       "4    earthy     floral     lavender     pungent  ...   \n",
       "\n",
       "                                             flavors  rating  \\\n",
       "0                                   sage     spicy       4.8   \n",
       "1    citrus     herbal     sour     spicy     swe...     4.7   \n",
       "2    berry     blueberry     fruity     herbal   ...     4.5   \n",
       "3    berry     cherry     strawberry     sweet   ...     4.5   \n",
       "4    chemical     herbal     lavender     menthol...     4.5   \n",
       "\n",
       "                                         description  fav_count  sativa_comp  \\\n",
       "0  s a g e is a popular marijuana strain that won...      621.0          0.5   \n",
       "1  cannatonic is an evenly balanced hybrid strain...     1535.0          0.5   \n",
       "2  blue dream is a slightly sativa dominant hybri...    15731.0          0.6   \n",
       "3  named after the bright red himalayan berry  th...      301.0          0.8   \n",
       "4  being an indica dominant hybrid strain  green ...       60.0          0.8   \n",
       "\n",
       "   indica_comp   cbd   cbn  avg_thc  \\\n",
       "0          0.5  0.00  0.00     0.19   \n",
       "1          0.5  0.14  0.01     0.07   \n",
       "2          0.4  0.02  0.01     0.17   \n",
       "3          0.2  0.01  0.00     0.22   \n",
       "4          0.2  0.00  0.00     0.11   \n",
       "\n",
       "                                       combined_text  \n",
       "0  s a g e   sativa afghani genetic equilibrium  ...  \n",
       "1  cannatonic marijuana strain   calming     happ...  \n",
       "2  blue dream marijuana strain   creative     ene...  \n",
       "3  goji og marijuana strain   creative     energi...  \n",
       "4  green love potion marijuana strain   aroused  ...  "
      ]
     },
     "execution_count": 4,
     "metadata": {},
     "output_type": "execute_result"
    }
   ],
   "source": [
    "df = pd.read_csv('combined text data', index_col = 0)\n",
    "df.head()"
   ]
  },
  {
   "cell_type": "code",
   "execution_count": 5,
   "metadata": {},
   "outputs": [],
   "source": [
    "x = df['description']\n",
    "y = df['strain_type']\n",
    "\n",
    "x_train, x_test, y_train, y_test = train_test_split(x, y, test_size= 0.3, random_state= 42)"
   ]
  },
  {
   "cell_type": "code",
   "execution_count": 1,
   "metadata": {},
   "outputs": [
    {
     "ename": "NameError",
     "evalue": "name 'x_train' is not defined",
     "output_type": "error",
     "traceback": [
      "\u001b[0;31m---------------------------------------------------------------------------\u001b[0m",
      "\u001b[0;31mNameError\u001b[0m                                 Traceback (most recent call last)",
      "\u001b[0;32m/var/folders/fn/x89br4314ms41dw0v78yt6hc0000gn/T/ipykernel_10591/1821549584.py\u001b[0m in \u001b[0;36m<module>\u001b[0;34m\u001b[0m\n\u001b[0;32m----> 1\u001b[0;31m \u001b[0mcorpus\u001b[0m \u001b[0;34m=\u001b[0m \u001b[0mx_train\u001b[0m\u001b[0;34m\u001b[0m\u001b[0;34m\u001b[0m\u001b[0m\n\u001b[0m\u001b[1;32m      2\u001b[0m \u001b[0;34m\u001b[0m\u001b[0m\n\u001b[1;32m      3\u001b[0m \u001b[0mtfidf\u001b[0m \u001b[0;34m=\u001b[0m \u001b[0mTfidfVectorizer\u001b[0m\u001b[0;34m(\u001b[0m\u001b[0mmax_features\u001b[0m \u001b[0;34m=\u001b[0m \u001b[0;36m15000\u001b[0m\u001b[0;34m,\u001b[0m \u001b[0mngram_range\u001b[0m\u001b[0;34m=\u001b[0m\u001b[0;34m(\u001b[0m\u001b[0;36m1\u001b[0m\u001b[0;34m,\u001b[0m\u001b[0;36m2\u001b[0m\u001b[0;34m)\u001b[0m\u001b[0;34m)\u001b[0m\u001b[0;34m\u001b[0m\u001b[0;34m\u001b[0m\u001b[0m\n\u001b[1;32m      4\u001b[0m \u001b[0mtfidf\u001b[0m\u001b[0;34m.\u001b[0m\u001b[0mfit\u001b[0m\u001b[0;34m(\u001b[0m\u001b[0mcorpus\u001b[0m\u001b[0;34m)\u001b[0m\u001b[0;34m\u001b[0m\u001b[0;34m\u001b[0m\u001b[0m\n",
      "\u001b[0;31mNameError\u001b[0m: name 'x_train' is not defined"
     ]
    }
   ],
   "source": [
    "corpus = x_train\n",
    "\n",
    "tfidf = TfidfVectorizer(max_features = 15000, ngram_range=(1,2))\n",
    "tfidf.fit(corpus)\n"
   ]
  },
  {
   "cell_type": "code",
   "execution_count": 12,
   "metadata": {},
   "outputs": [
    {
     "name": "stderr",
     "output_type": "stream",
     "text": [
      "/Users/issy/opt/anaconda3/lib/python3.9/site-packages/sklearn/linear_model/_logistic.py:814: ConvergenceWarning: lbfgs failed to converge (status=1):\n",
      "STOP: TOTAL NO. of ITERATIONS REACHED LIMIT.\n",
      "\n",
      "Increase the number of iterations (max_iter) or scale the data as shown in:\n",
      "    https://scikit-learn.org/stable/modules/preprocessing.html\n",
      "Please also refer to the documentation for alternative solver options:\n",
      "    https://scikit-learn.org/stable/modules/linear_model.html#logistic-regression\n",
      "  n_iter_i = _check_optimize_result(\n"
     ]
    },
    {
     "data": {
      "text/plain": [
       "Pipeline(steps=[('vectorizer',\n",
       "                 TfidfVectorizer(max_features=15000, ngram_range=(1, 2))),\n",
       "                ('classifier', LogisticRegression())])"
      ]
     },
     "execution_count": 12,
     "metadata": {},
     "output_type": "execute_result"
    }
   ],
   "source": [
    "from sklearn.linear_model import LogisticRegression, SGDClassifier\n",
    "from sklearn.metrics import accuracy_score\n",
    "classifier = LogisticRegression()\n",
    "model_tfidf = Pipeline([('vectorizer', tfidf), ('classifier', classifier)])\n",
    "\n",
    "model_tfidf.fit(x_train, y_train)\n"
   ]
  },
  {
   "cell_type": "code",
   "execution_count": 13,
   "metadata": {},
   "outputs": [
    {
     "name": "stdout",
     "output_type": "stream",
     "text": [
      "Accuracy Training data: 96.5%\n",
      "Accuracy Test data: 91.4%\n"
     ]
    }
   ],
   "source": [
    "#assessing the accuracy \n",
    "\n",
    "predicted_train_tfidf = model_tfidf.predict(x_train)\n",
    "accuracy_train_tfidf = accuracy_score(y_train, predicted_train_tfidf)\n",
    "print('Accuracy Training data: {:.1%}'.format(accuracy_train_tfidf))\n",
    "\n",
    "predicted_test_tfidf = model_tfidf.predict(x_test)\n",
    "accuracy_test_tfidf = accuracy_score(y_test, predicted_test_tfidf)\n",
    "accuracy_tfidf = accuracy_test_tfidf\n",
    "print('Accuracy Test data: {:.1%}'.format(accuracy_test_tfidf))\n",
    "\n"
   ]
  },
  {
   "cell_type": "code",
   "execution_count": 14,
   "metadata": {},
   "outputs": [
    {
     "name": "stdout",
     "output_type": "stream",
     "text": [
      "Classes of the model:  ['hybrid' 'indica' 'indica dominant hybrid' 'ruderalis'\n",
      " 'ruderalis dominant hybrid' 'sativa' 'sativa dominant hybrid']\n",
      "--------------------------------------------------------------------------------\n",
      "Shape of the coefficients of the model (categories x vocabulary size):  (7, 15000)\n",
      "--------------------------------------------------------------------------------\n",
      "hybrid: strain 50, an evenly, indica 50, 50 sativa, 50 indica, evenly balanced, evenly, balanced hybrid, balanced, 50, \n",
      "--------------------------------------------------------------------------------\n",
      "indica: afghan, kush, rare 100, indica strain, indica hybrid, pure, is 100, 100 pure, 100, pure indica, \n",
      "--------------------------------------------------------------------------------\n",
      "indica dominant hybrid: indica 30, 30 sativa, dominant, 60 indica, dominant hybrid, slightly indica, rare indica, an indica, indica, indica dominant, \n",
      "--------------------------------------------------------------------------------\n",
      "ruderalis: native, mellow, have airy, native to, regions, autoflowering, melon, regions of, the regions, ruderalis, \n",
      "--------------------------------------------------------------------------------\n",
      "ruderalis dominant hybrid: tops out, these mild, woody herbal, the, cbd, and, nature, ruderalis, harlequin, high cbd, \n",
      "--------------------------------------------------------------------------------\n",
      "sativa: native to, thai, haze, native, sativa strain, pure, is 100, 100 pure, 100, pure sativa, \n",
      "--------------------------------------------------------------------------------\n",
      "sativa dominant hybrid: sativa 30, 40 indica, 60 sativa, sativa 40, slightly sativa, rare sativa, indica created, sativa, is sativa, sativa dominant, \n",
      "--------------------------------------------------------------------------------\n"
     ]
    }
   ],
   "source": [
    "print('Classes of the model: ',classifier.classes_)\n",
    "print(80*'-')\n",
    "print('Shape of the coefficients of the model (categories x vocabulary size): ',classifier.coef_.shape)\n",
    "print(80*'-')\n",
    "NN = 10\n",
    "# Get the 10 (here: NN, which you can adjust yourself) ids of the words with highest weights per category\n",
    "top_words = np.argsort(classifier.coef_,axis=1)[:,-NN:]\n",
    "\n",
    "# Get the vocabulary of the model (mapping of words to ids):\n",
    "voc = tfidf.vocabulary_\n",
    "# Get the inverse vocabulary to map the ids of the words to the words:\n",
    "inv_voc = {v: k for k, v in voc.items()}\n",
    "\n",
    "# Get for each category (=class) the top ten words\n",
    "for n, w in enumerate(classifier.classes_):\n",
    "    t = w + ': '\n",
    "    for i in range(NN):\n",
    "        t += inv_voc[top_words[n,i]]\n",
    "        if i!=NN:\n",
    "            t+=', '\n",
    "    print(t)\n",
    "    print(80*'-')"
   ]
  },
  {
   "cell_type": "code",
   "execution_count": 15,
   "metadata": {},
   "outputs": [
    {
     "data": {
      "text/plain": [
       "Pipeline(steps=[('vectorizer',\n",
       "                 TfidfVectorizer(max_features=15000, ngram_range=(1, 2))),\n",
       "                ('knn', KNeighborsClassifier(n_neighbors=3))])"
      ]
     },
     "execution_count": 15,
     "metadata": {},
     "output_type": "execute_result"
    }
   ],
   "source": [
    "knn = KNeighborsClassifier(n_neighbors= 3)\n",
    "clf = Pipeline([('vectorizer', tfidf), ('knn', knn)])\n",
    "clf.fit(x_train, y_train)\n",
    "\n"
   ]
  },
  {
   "cell_type": "code",
   "execution_count": 16,
   "metadata": {},
   "outputs": [
    {
     "name": "stdout",
     "output_type": "stream",
     "text": [
      "Accuracy Training data: 76.8%\n",
      "Accuracy Test data: 57.0%\n"
     ]
    }
   ],
   "source": [
    "predicted_train_tfidf_knn = clf.predict(x_train)\n",
    "accuracy_train_tfidf_knn = accuracy_score(y_train, predicted_train_tfidf_knn)\n",
    "print('Accuracy Training data: {:.1%}'.format(accuracy_train_tfidf_knn))\n",
    "\n",
    "predicted_test_tfidf_knn = clf.predict(x_test)\n",
    "accuracy_test_tfidf_knn = accuracy_score(y_test, predicted_test_tfidf_knn)\n",
    "accuracy_tfidf = accuracy_test_tfidf_knn\n",
    "print('Accuracy Test data: {:.1%}'.format(accuracy_test_tfidf_knn))"
   ]
  },
  {
   "cell_type": "code",
   "execution_count": 17,
   "metadata": {},
   "outputs": [
    {
     "name": "stdout",
     "output_type": "stream",
     "text": [
      "Minimum error:- 0.2561613144137416 at K = 38\n"
     ]
    },
    {
     "data": {
      "image/png": "[encoded data removed]",
      "text/plain": [
       "<Figure size 720x432 with 1 Axes>"
      ]
     },
     "metadata": {
      "needs_background": "light"
     },
     "output_type": "display_data"
    }
   ],
   "source": [
    "import matplotlib.pyplot as plt \n",
    "\n",
    "error_rate = []\n",
    "\n",
    "for i in range(1,40):\n",
    "    knn_2 = KNeighborsClassifier(n_neighbors= i)\n",
    "    clf2 = Pipeline([('vectorizer', tfidf),('classifier', knn_2)])\n",
    "    clf2.fit(x_train, y_train)\n",
    "    pred_i = clf2.predict(x_test)\n",
    "    error_rate.append(np.mean(pred_i != y_test))\n",
    "\n",
    "plt.figure(figsize = (10,6))\n",
    "plt.plot(range(1,40), error_rate, color = 'blue', linestyle = 'dashed', \n",
    "         marker = 'o', markerfacecolor = 'red', markersize = 10)\n",
    "plt.title('Error Rate vs. K Value')\n",
    "plt.xlabel('K')\n",
    "plt.ylabel('Error Rate')\n",
    "print(\"Minimum error:-\",min(error_rate),\"at K =\",error_rate.index(min(error_rate)))\n",
    "    "
   ]
  },
  {
   "cell_type": "code",
   "execution_count": 20,
   "metadata": {},
   "outputs": [
    {
     "name": "stdout",
     "output_type": "stream",
     "text": [
      "Maximum accuracy:- 0.7438386855862584 at K = 0\n"
     ]
    },
    {
     "data": {
      "image/png": "[encoded data removed]",
      "text/plain": [
       "<Figure size 720x432 with 1 Axes>"
      ]
     },
     "metadata": {
      "needs_background": "light"
     },
     "output_type": "display_data"
    }
   ],
   "source": [
    "accuracy = []\n",
    "\n",
    "for i in range(1, 40):\n",
    "    yhat = clf2.predict(x_test)\n",
    "    accuracy.append(metrics.accuracy_score(y_test, yhat))\n",
    "\n",
    "plt.figure(figsize=(10,6))\n",
    "plt.plot(range(1,40),accuracy,color = 'blue',linestyle='dashed', \n",
    "         marker='o',markerfacecolor='red', markersize=10)\n",
    "plt.title('accuracy vs. K Value')\n",
    "plt.xlabel('K')\n",
    "plt.ylabel('Accuracy')\n",
    "print(\"Maximum accuracy:-\",max(accuracy),\"at K =\",accuracy.index(max(accuracy)))"
   ]
  },
  {
   "cell_type": "code",
   "execution_count": 26,
   "metadata": {},
   "outputs": [
    {
     "data": {
      "text/plain": [
       "Pipeline(steps=[('vectorizer',\n",
       "                 TfidfVectorizer(max_features=15000, ngram_range=(1, 2))),\n",
       "                ('knn', KNeighborsClassifier(n_neighbors=38))])"
      ]
     },
     "execution_count": 26,
     "metadata": {},
     "output_type": "execute_result"
    }
   ],
   "source": [
    "knn3 = KNeighborsClassifier(n_neighbors= 38)\n",
    "clf3 = Pipeline([('vectorizer', tfidf), ('knn', knn3)])\n",
    "clf3.fit(x_train, y_train)"
   ]
  },
  {
   "cell_type": "code",
   "execution_count": 27,
   "metadata": {},
   "outputs": [
    {
     "name": "stdout",
     "output_type": "stream",
     "text": [
      "Accuracy Training data : 75.4%\n",
      "Accuracy Test data: 73.9%\n"
     ]
    }
   ],
   "source": [
    "predicted_train_tfidf_knn3 = clf3.predict(x_train)\n",
    "accuracy_train_tfidf_knn3 = accuracy_score(y_train, predicted_train_tfidf_knn3)\n",
    "print('Accuracy Training data : {:.1%}'.format(accuracy_train_tfidf_knn3))\n",
    "\n",
    "predicted_test_tfidf_knn3 = clf3.predict(x_test)\n",
    "accuracy_test_tfidf_knn3 = accuracy_score(y_test, predicted_test_tfidf_knn3)\n",
    "accuracy_tfidf = accuracy_test_tfidf_knn3\n",
    "print('Accuracy Test data: {:.1%}'.format(accuracy_test_tfidf_knn3))"
   ]
  },
  {
   "cell_type": "code",
   "execution_count": 30,
   "metadata": {},
   "outputs": [
    {
     "name": "stdout",
     "output_type": "stream",
     "text": [
      "                        precision    recall  f1-score   support\n",
      "\n",
      "                hybrid       0.75      0.71      0.73       706\n",
      "                indica       1.00      0.03      0.05        75\n",
      "indica dominant hybrid       0.72      0.89      0.80      1202\n",
      "             ruderalis       0.00      0.00      0.00         1\n",
      "                sativa       0.84      0.28      0.42        58\n",
      "sativa dominant hybrid       0.78      0.61      0.68       636\n",
      "\n",
      "              accuracy                           0.74      2678\n",
      "             macro avg       0.68      0.42      0.45      2678\n",
      "          weighted avg       0.75      0.74      0.72      2678\n",
      "\n"
     ]
    }
   ],
   "source": [
    "from sklearn.metrics import classification_report\n",
    "print(classification_report(y_test, predicted_test_tfidf_knn3, zero_division= 0))"
   ]
  },
  {
   "cell_type": "code",
   "execution_count": 33,
   "metadata": {},
   "outputs": [
    {
     "name": "stdout",
     "output_type": "stream",
     "text": [
      "Accuracy: 91.3742\n",
      "                        precision    recall  f1-score   support\n",
      "\n",
      "                hybrid       0.92      0.91      0.91       706\n",
      "                indica       1.00      0.29      0.45        75\n",
      "indica dominant hybrid       0.92      0.97      0.94      1202\n",
      "             ruderalis       0.00      0.00      0.00         1\n",
      "                sativa       0.95      0.31      0.47        58\n",
      "sativa dominant hybrid       0.89      0.95      0.92       636\n",
      "\n",
      "              accuracy                           0.91      2678\n",
      "             macro avg       0.78      0.57      0.62      2678\n",
      "          weighted avg       0.92      0.91      0.91      2678\n",
      "\n"
     ]
    }
   ],
   "source": [
    "print(\"Accuracy: {}\".format(round(accuracy_test_tfidf*100, 4)))\n",
    "print(classification_report(y_test, predicted_test_tfidf, zero_division= 0))"
   ]
  },
  {
   "cell_type": "code",
   "execution_count": null,
   "metadata": {},
   "outputs": [],
   "source": []
  }
 ],
 "metadata": {
  "kernelspec": {
   "display_name": "base",
   "language": "python",
   "name": "python3"
  },
  "language_info": {
   "codemirror_mode": {
    "name": "ipython",
    "version": 3
   },
   "file_extension": ".py",
   "mimetype": "text/x-python",
   "name": "python",
   "nbconvert_exporter": "python",
   "pygments_lexer": "ipython3",
   "version": "3.9.7"
  },
  "orig_nbformat": 4
 },
 "nbformat": 4,
 "nbformat_minor": 2
}
